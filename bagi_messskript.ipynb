{
 "cells": [
  {
   "cell_type": "code",
   "execution_count": 1,
   "id": "f62cdcd1",
   "metadata": {
    "vscode": {
     "languageId": "plaintext"
    }
   },
   "outputs": [
    {
     "name": "stdout",
     "output_type": "stream",
     "text": [
      "ASRL::/dev/ttyUSB1,19200,8e1::INSTR\n",
      "lock-in ready\n",
      "<usbtmc.usbtmc.Instrument object at 0xaadefed0>\n",
      "function generator ready\n",
      "ASRL::/dev/ttyUSB0,9600,8n1::INSTR\n",
      "power supply ready\n"
     ]
    }
   ],
   "source": [
    "from init_messg import init_sr830, init_fgen, init_hameg\n",
    "from calibration import start_calibration\n",
    "import mess_func\n",
    "\n",
    "import ivi\n",
    "import time\n",
    "import os\n",
    "\n",
    "import numpy as np\n",
    "import matplotlib.pylab as plt\n",
    "\n",
    "from datetime import datetime\n",
    "import pandas as pd\n",
    "\n",
    "sensitivity=22  # 23...100mV, 22...50mV, 21...20mV, 20...10mV, 19...5mV\n",
    "i=1   # signal input: 0...A, 1...A-B\n",
    "SR830 = init_sr830(sensitivity,i)\n",
    "reset=False\n",
    "fgen = init_fgen(reset)\n",
    "powersupply = init_hameg(1)  # 1...5V, 2...12V"
   ]
  },
  {
   "cell_type": "code",
   "execution_count": 4,
   "id": "19889157",
   "metadata": {
    "scrolled": false
   },
   "outputs": [
    {
     "ename": "NameError",
     "evalue": "name 'start_calibration' is not defined",
     "output_type": "error",
     "traceback": [
      "\u001b[0;31m---------------------------------------------------------------------------\u001b[0m",
      "\u001b[0;31mNameError\u001b[0m                                 Traceback (most recent call last)",
      "\u001b[0;32m/tmp/ipykernel_1348/3623898970.py\u001b[0m in \u001b[0;36m<module>\u001b[0;34m\u001b[0m\n\u001b[0;32m----> 1\u001b[0;31m \u001b[0mu\u001b[0m\u001b[0;34m,\u001b[0m\u001b[0mph\u001b[0m \u001b[0;34m=\u001b[0m \u001b[0mstart_calibration\u001b[0m\u001b[0;34m(\u001b[0m\u001b[0mSR830\u001b[0m\u001b[0;34m,\u001b[0m \u001b[0mfgen\u001b[0m\u001b[0;34m,\u001b[0m \u001b[0;36m2037\u001b[0m\u001b[0;34m,\u001b[0m \u001b[0;36m5\u001b[0m\u001b[0;34m)\u001b[0m\u001b[0;34m\u001b[0m\u001b[0;34m\u001b[0m\u001b[0m\n\u001b[0m",
      "\u001b[0;31mNameError\u001b[0m: name 'start_calibration' is not defined"
     ]
    }
   ],
   "source": [
    "u,ph = start_calibration(SR830, fgen, 9240.2, 5)"
   ]
  },
  {
   "cell_type": "code",
   "execution_count": 1,
   "id": "c4b33015",
   "metadata": {
    "scrolled": true
   },
   "outputs": [
    {
     "ename": "NameError",
     "evalue": "name 'mess_func' is not defined",
     "output_type": "error",
     "traceback": [
      "\u001b[0;31m---------------------------------------------------------------------------\u001b[0m",
      "\u001b[0;31mNameError\u001b[0m                                 Traceback (most recent call last)",
      "\u001b[0;32m/tmp/ipykernel_2380/436788796.py\u001b[0m in \u001b[0;36m<module>\u001b[0;34m\u001b[0m\n\u001b[1;32m      5\u001b[0m \u001b[0mn_avg\u001b[0m\u001b[0;34m=\u001b[0m\u001b[0;36m8\u001b[0m \u001b[0;31m#number of averages\u001b[0m\u001b[0;34m\u001b[0m\u001b[0;34m\u001b[0m\u001b[0m\n\u001b[1;32m      6\u001b[0m \u001b[0;34m\u001b[0m\u001b[0m\n\u001b[0;32m----> 7\u001b[0;31m \u001b[0mu_vec\u001b[0m\u001b[0;34m,\u001b[0m\u001b[0mr_vec\u001b[0m\u001b[0;34m=\u001b[0m\u001b[0mmess_func\u001b[0m\u001b[0;34m.\u001b[0m\u001b[0mmeas\u001b[0m\u001b[0;34m(\u001b[0m\u001b[0mSR830\u001b[0m\u001b[0;34m,\u001b[0m \u001b[0mpowersupply\u001b[0m\u001b[0;34m,\u001b[0m \u001b[0mmeas_t_const\u001b[0m\u001b[0;34m,\u001b[0m \u001b[0mmeas_t_sleep\u001b[0m\u001b[0;34m,\u001b[0m \u001b[0mmeas_u_max\u001b[0m\u001b[0;34m,\u001b[0m \u001b[0mmeas_n_meas\u001b[0m\u001b[0;34m,\u001b[0m \u001b[0mn_avg\u001b[0m\u001b[0;34m)\u001b[0m\u001b[0;34m\u001b[0m\u001b[0;34m\u001b[0m\u001b[0m\n\u001b[0m",
      "\u001b[0;31mNameError\u001b[0m: name 'mess_func' is not defined"
     ]
    }
   ],
   "source": [
    "# define measurement setup\n",
    "measurement_box = \"LEFM-A\"\n",
    "box_supply = \"5 V\"  # supply voltage from powersupply\n",
    "sensor = \"LEFM-K08-A\"\n",
    "mode = '3'\n",
    "frequency = \"9240.2 Hz\"\n",
    "d_minus = ' 5.000 V'#f\"{u0}V\"  # drive voltage ch1 from function generator\n",
    "d_plus = '5.000 V'#f\"{u_min}V\"   # drive voltage ch2 from function generator\n",
    "\n",
    "\n",
    "meas_t_const=9     # 8..100ms; 9..300ms; 10...1s; 11...3s\n",
    "meas_t_sleep=0.5   # time betveen voltage change in s\n",
    "meas_u_max=30      # maximum voltage in V\n",
    "meas_n_meas=30     # number of measurements from 0V to meas_u_max\n",
    "n_avg=8            # number of averages\n",
    "t_avg=0.001        # time between averege measurement\n",
    "\n",
    "df, date, time=mess_func.meas(SR830, powersupply, time_const, t_sleep, t_avg, u_max, n_meas, n_avg, symetric, \n",
    "                           measurement_box, box_supply, sensor, mode, frequency, d_minus, d_plus)\n",
    "u_vec = df['U']\n",
    "r_vec = df['R']\n",
    "phi_vec = df['Phi']"
   ]
  },
  {
   "cell_type": "code",
   "execution_count": 11,
   "id": "1ac7a0c5",
   "metadata": {},
   "outputs": [
    {
     "data": {
      "image/png": "[encoded data removed]",
      "text/plain": [
       "<Figure size 432x288 with 1 Axes>"
      ]
     },
     "metadata": {
      "needs_background": "light"
     },
     "output_type": "display_data"
    }
   ],
   "source": [
    "u = np.array(np.array(u_vec))#np.array((np.array(u_vec))/(distance*1000)) # in kV/m\n",
    "r = np.array(r_vec)*1000 #in mV\n",
    "phi = np.array(phi_vec)\n",
    "\n",
    "# create the first plot\n",
    "fig, ax1 = plt.subplots()\n",
    "# plot the voltage data\n",
    "line1, =ax1.plot(u,r,'b-',label='U_out')\n",
    "ax1.set_xlabel('Voltage [V]')\n",
    "ax1.set_ylabel('U_out [mV]',color='b')\n",
    "ax1.tick_params(axis='y',labelcolor='b')\n",
    "ax1.grid(True)\n",
    "# create second y-axis\n",
    "ax2 = ax1.twinx()\n",
    "# plot the phase data\n",
    "line2, =ax2.plot(u,phi,'r-', label='Phi_out')\n",
    "ax2.set_ylabel('Phi_out [°]',color='r')\n",
    "ax2.tick_params(axis='y',labelcolor='r')\n",
    "# add legends\n",
    "lines = [line1,line2]\n",
    "labels = [line.get_label() for line in lines]\n",
    "ax1.legend(lines, labels, loc='lower left')\n",
    "\n",
    "# display the plot\n",
    "plt.title(f'{sensor} with {measurement_box}-{box_supply} at {frequency} in mode {mode} on {date} {time}')\n",
    "plt.show()\n",
    "# save the plot to a file\n",
    "fig.savefig(f\"{sensor}_{date}_{time}.png\", dpi=300)  # different output formats like .pdf or .svg available  "
   ]
  },
  {
   "cell_type": "code",
   "execution_count": null,
   "id": "3d9e7ddd",
   "metadata": {},
   "outputs": [],
   "source": []
  }
 ],
 "metadata": {
  "kernelspec": {
   "display_name": "Python 3 (ipykernel)",
   "language": "python",
   "name": "python3"
  },
  "language_info": {
   "codemirror_mode": {
    "name": "ipython",
    "version": 3
   },
   "file_extension": ".py",
   "mimetype": "text/x-python",
   "name": "python",
   "nbconvert_exporter": "python",
   "pygments_lexer": "ipython3",
   "version": "3.7.3"
  }
 },
 "nbformat": 4,
 "nbformat_minor": 5
}
